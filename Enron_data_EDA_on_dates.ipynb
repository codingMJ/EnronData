{
 "cells": [
  {
   "cell_type": "markdown",
   "metadata": {},
   "source": [
    "### Description:\n",
    "In this notebook I will try to EDA the email dates"
   ]
  },
  {
   "cell_type": "markdown",
   "metadata": {},
   "source": [
    "### Import data and print some rows"
   ]
  },
  {
   "cell_type": "code",
   "execution_count": 1,
   "metadata": {},
   "outputs": [
    {
     "name": "stdout",
     "output_type": "stream",
     "text": [
      "DF shape: (1000, 6)\n"
     ]
    },
    {
     "data": {
      "text/html": [
       "<div>\n",
       "<style scoped>\n",
       "    .dataframe tbody tr th:only-of-type {\n",
       "        vertical-align: middle;\n",
       "    }\n",
       "\n",
       "    .dataframe tbody tr th {\n",
       "        vertical-align: top;\n",
       "    }\n",
       "\n",
       "    .dataframe thead th {\n",
       "        text-align: right;\n",
       "    }\n",
       "</style>\n",
       "<table border=\"1\" class=\"dataframe\">\n",
       "  <thead>\n",
       "    <tr style=\"text-align: right;\">\n",
       "      <th></th>\n",
       "      <th>Date</th>\n",
       "      <th>From</th>\n",
       "      <th>To</th>\n",
       "      <th>Subject</th>\n",
       "      <th>content</th>\n",
       "      <th>new_date</th>\n",
       "    </tr>\n",
       "  </thead>\n",
       "  <tbody>\n",
       "    <tr>\n",
       "      <th>0</th>\n",
       "      <td>Mon, 14 May 2001 16:39:00 -0700 (PDT)</td>\n",
       "      <td>frozenset({'phillip.allen@enron.com'})</td>\n",
       "      <td>frozenset({'tim.belden@enron.com'})</td>\n",
       "      <td>NaN</td>\n",
       "      <td>Here is our forecast\\n\\n</td>\n",
       "      <td>2001-05-14 23:39:00</td>\n",
       "    </tr>\n",
       "    <tr>\n",
       "      <th>1</th>\n",
       "      <td>Fri, 4 May 2001 13:51:00 -0700 (PDT)</td>\n",
       "      <td>frozenset({'phillip.allen@enron.com'})</td>\n",
       "      <td>frozenset({'john.lavorato@enron.com'})</td>\n",
       "      <td>Re:</td>\n",
       "      <td>Traveling to have a business meeting takes the...</td>\n",
       "      <td>2001-05-04 20:51:00</td>\n",
       "    </tr>\n",
       "    <tr>\n",
       "      <th>2</th>\n",
       "      <td>Wed, 18 Oct 2000 03:00:00 -0700 (PDT)</td>\n",
       "      <td>frozenset({'phillip.allen@enron.com'})</td>\n",
       "      <td>frozenset({'leah.arsdall@enron.com'})</td>\n",
       "      <td>Re: test</td>\n",
       "      <td>test successful.  way to go!!!</td>\n",
       "      <td>2000-10-18 10:00:00</td>\n",
       "    </tr>\n",
       "    <tr>\n",
       "      <th>3</th>\n",
       "      <td>Mon, 23 Oct 2000 06:13:00 -0700 (PDT)</td>\n",
       "      <td>frozenset({'phillip.allen@enron.com'})</td>\n",
       "      <td>frozenset({'randall.gay@enron.com'})</td>\n",
       "      <td>NaN</td>\n",
       "      <td>Randy,\\n\\n Can you send me a schedule of the s...</td>\n",
       "      <td>2000-10-23 13:13:00</td>\n",
       "    </tr>\n",
       "    <tr>\n",
       "      <th>4</th>\n",
       "      <td>Thu, 31 Aug 2000 05:07:00 -0700 (PDT)</td>\n",
       "      <td>frozenset({'phillip.allen@enron.com'})</td>\n",
       "      <td>frozenset({'greg.piper@enron.com'})</td>\n",
       "      <td>Re: Hello</td>\n",
       "      <td>Let's shoot for Tuesday at 11:45.</td>\n",
       "      <td>2000-08-31 12:07:00</td>\n",
       "    </tr>\n",
       "  </tbody>\n",
       "</table>\n",
       "</div>"
      ],
      "text/plain": [
       "                                    Date  \\\n",
       "0  Mon, 14 May 2001 16:39:00 -0700 (PDT)   \n",
       "1   Fri, 4 May 2001 13:51:00 -0700 (PDT)   \n",
       "2  Wed, 18 Oct 2000 03:00:00 -0700 (PDT)   \n",
       "3  Mon, 23 Oct 2000 06:13:00 -0700 (PDT)   \n",
       "4  Thu, 31 Aug 2000 05:07:00 -0700 (PDT)   \n",
       "\n",
       "                                     From  \\\n",
       "0  frozenset({'phillip.allen@enron.com'})   \n",
       "1  frozenset({'phillip.allen@enron.com'})   \n",
       "2  frozenset({'phillip.allen@enron.com'})   \n",
       "3  frozenset({'phillip.allen@enron.com'})   \n",
       "4  frozenset({'phillip.allen@enron.com'})   \n",
       "\n",
       "                                       To    Subject  \\\n",
       "0     frozenset({'tim.belden@enron.com'})        NaN   \n",
       "1  frozenset({'john.lavorato@enron.com'})        Re:   \n",
       "2   frozenset({'leah.arsdall@enron.com'})   Re: test   \n",
       "3    frozenset({'randall.gay@enron.com'})        NaN   \n",
       "4     frozenset({'greg.piper@enron.com'})  Re: Hello   \n",
       "\n",
       "                                             content             new_date  \n",
       "0                          Here is our forecast\\n\\n   2001-05-14 23:39:00  \n",
       "1  Traveling to have a business meeting takes the...  2001-05-04 20:51:00  \n",
       "2                     test successful.  way to go!!!  2000-10-18 10:00:00  \n",
       "3  Randy,\\n\\n Can you send me a schedule of the s...  2000-10-23 13:13:00  \n",
       "4                Let's shoot for Tuesday at 11:45.    2000-08-31 12:07:00  "
      ]
     },
     "execution_count": 1,
     "metadata": {},
     "output_type": "execute_result"
    }
   ],
   "source": [
    "import pandas as pd\n",
    "\n",
    "df = pd.read_csv(\"enron_test.csv\")\n",
    "print(\"DF shape:\", df.shape)\n",
    "df.head()"
   ]
  },
  {
   "cell_type": "code",
   "execution_count": 2,
   "metadata": {},
   "outputs": [
    {
     "name": "stdout",
     "output_type": "stream",
     "text": [
      "Empty cells per column:\n",
      "\n",
      "Date: 0\n",
      "From: 0\n",
      "To: 5\n",
      "Subject: 302\n",
      "content: 0\n",
      "new_date: 0\n"
     ]
    }
   ],
   "source": [
    "# Check if any columns have empty cells\n",
    "\n",
    "print(\"Empty cells per column:\\n\")\n",
    "for c in df.columns:\n",
    "    print(c, end=\": \")\n",
    "    print(df[c].isnull().sum())"
   ]
  },
  {
   "cell_type": "code",
   "execution_count": 3,
   "metadata": {},
   "outputs": [
    {
     "name": "stdout",
     "output_type": "stream",
     "text": [
      "Original string date: Mon, 14 May 2001 16:39:00 -0700 (PDT) \n",
      "\n",
      "Year: 2001\n",
      "Month: 5\n",
      "Day: 14\n",
      "Date: 2001-05-14\n",
      "Time: 16:39:00\n",
      "Weekday: 0\n"
     ]
    }
   ],
   "source": [
    "# Create function that converts string dates into date format\n",
    "# and quick test the function\n",
    "\n",
    "import datetime\n",
    "def string_to_date(d):\n",
    "    return datetime.datetime.strptime(d[:-12], '%a, %d %b %Y %H:%M:%S')\n",
    "\n",
    "# Test the function\n",
    "for e in df[\"Date\"].tolist():\n",
    "    print(\"Original string date: %s \\n\" % e)\n",
    "    \n",
    "    date_time_obj = string_to_date(e)\n",
    "    print('Year:', date_time_obj.year)\n",
    "    print('Month:', date_time_obj.month)\n",
    "    print('Day:', date_time_obj.day)\n",
    "    print('Date:', date_time_obj.date())\n",
    "    print('Time:', date_time_obj.time())\n",
    "    print('Weekday:', date_time_obj.weekday())\n",
    "    break\n"
   ]
  },
  {
   "cell_type": "markdown",
   "metadata": {},
   "source": [
    "### Count emails sent every year"
   ]
  },
  {
   "cell_type": "code",
   "execution_count": 4,
   "metadata": {},
   "outputs": [],
   "source": [
    "import matplotlib.pyplot as plt\n",
    "import seaborn as sns"
   ]
  },
  {
   "cell_type": "code",
   "execution_count": 5,
   "metadata": {},
   "outputs": [],
   "source": [
    "# Get count by year\n",
    "\n",
    "emails_per_year = df[\"Date\"].apply(lambda x: string_to_date(x).year).value_counts()\n",
    "emails_per_year = emails_per_year.sort_index()"
   ]
  },
  {
   "cell_type": "code",
   "execution_count": 6,
   "metadata": {},
   "outputs": [
    {
     "data": {
      "image/png": "[encoded data removed]",
      "text/plain": [
       "<Figure size 720x360 with 1 Axes>"
      ]
     },
     "metadata": {
      "needs_background": "light"
     },
     "output_type": "display_data"
    }
   ],
   "source": [
    "# Plot bar chart\n",
    "\n",
    "emails_per_year.plot(kind='bar', figsize=(10, 5))\n",
    "plt.title(\"Emails sent per year\", y=1.01, fontsize=20)\n",
    "plt.ylabel(\"Email counts\", labelpad=15)\n",
    "plt.xlabel(\"Year\", labelpad=15);"
   ]
  },
  {
   "cell_type": "markdown",
   "metadata": {},
   "source": [
    "### Findings:\n",
    "We can see that emails were being sent actively in 2000 and 2001"
   ]
  },
  {
   "cell_type": "markdown",
   "metadata": {},
   "source": [
    "### Count emails sent every  month"
   ]
  },
  {
   "cell_type": "code",
   "execution_count": 7,
   "metadata": {},
   "outputs": [],
   "source": [
    "# Get counts by months\n",
    "\n",
    "emails_monthly = df[\"Date\"].apply(lambda x: string_to_date(x).month).value_counts()\n",
    "emails_monthly = emails_monthly.sort_index()"
   ]
  },
  {
   "cell_type": "code",
   "execution_count": 8,
   "metadata": {},
   "outputs": [
    {
     "data": {
      "image/png": "[encoded data removed]",
      "text/plain": [
       "<Figure size 720x360 with 1 Axes>"
      ]
     },
     "metadata": {
      "needs_background": "light"
     },
     "output_type": "display_data"
    }
   ],
   "source": [
    "# Plot bar chart\n",
    "\n",
    "emails_monthly.plot(kind='bar', figsize=(10, 5))\n",
    "plt.title(\"Emails sent per month\", y=1.01, fontsize=20)\n",
    "plt.ylabel(\"Email counts\", labelpad=15)\n",
    "plt.xlabel(\"Months\", labelpad=15);"
   ]
  },
  {
   "cell_type": "markdown",
   "metadata": {},
   "source": [
    "### Findings:\n",
    "I think the char above also shows some pattern. We can see that chart looks like sinusoid (i.e wavy),\n",
    "where peaks could indicate busy seasons. And the activation of the seasons starts and ends smoothly. And also teh busiest time is the beginning of the year."
   ]
  },
  {
   "cell_type": "markdown",
   "metadata": {},
   "source": [
    "### Count emails sent every  month day"
   ]
  },
  {
   "cell_type": "code",
   "execution_count": 9,
   "metadata": {},
   "outputs": [],
   "source": [
    "# Get count by month days\n",
    "\n",
    "emails_month_days = df[\"Date\"].apply(lambda x: string_to_date(x).day).value_counts()\n",
    "emails_month_days = emails_month_days.sort_index()"
   ]
  },
  {
   "cell_type": "code",
   "execution_count": 10,
   "metadata": {},
   "outputs": [
    {
     "data": {
      "image/png": "[encoded data removed]",
      "text/plain": [
       "<Figure size 720x360 with 1 Axes>"
      ]
     },
     "metadata": {
      "needs_background": "light"
     },
     "output_type": "display_data"
    }
   ],
   "source": [
    "# Plot bar chart\n",
    "\n",
    "emails_month_days.plot(kind='bar', figsize=(10, 5))\n",
    "plt.title(\"Emails sent per month days\", y=1.01, fontsize=20)\n",
    "plt.ylabel(\"Email counts\", labelpad=15)\n",
    "plt.xlabel(\"Month days\", labelpad=15);"
   ]
  },
  {
   "cell_type": "markdown",
   "metadata": {},
   "source": [
    "### Findings:\n",
    "Looks like the chart above also looks like a bit wavy (but the waves are noisy), so there is a weak pattern as well. Might require more investigation."
   ]
  },
  {
   "cell_type": "markdown",
   "metadata": {},
   "source": [
    "### Count emails sent every weekday"
   ]
  },
  {
   "cell_type": "code",
   "execution_count": 11,
   "metadata": {},
   "outputs": [],
   "source": [
    "# Get count by week days\n",
    "\n",
    "emails_week_days = df[\"Date\"].apply(lambda x: string_to_date(x).weekday()).value_counts()\n",
    "emails_week_days = emails_week_days.sort_index()"
   ]
  },
  {
   "cell_type": "code",
   "execution_count": 12,
   "metadata": {},
   "outputs": [
    {
     "data": {
      "image/png": "[encoded data removed]",
      "text/plain": [
       "<Figure size 720x360 with 1 Axes>"
      ]
     },
     "metadata": {
      "needs_background": "light"
     },
     "output_type": "display_data"
    }
   ],
   "source": [
    "# Plot bar chart\n",
    "\n",
    "emails_week_days.plot(kind='bar', figsize=(10, 5))\n",
    "plt.title(\"Emails sent per week days\", y=1.01, fontsize=20)\n",
    "plt.ylabel(\"Email counts\", labelpad=15)\n",
    "plt.xlabel(\"Week days\", labelpad=15);"
   ]
  },
  {
   "cell_type": "markdown",
   "metadata": {},
   "source": [
    "### Findings:\n",
    "So the week days are indicated as numbers where 0 is Monday and 6 is Sunday. Looks like an obvious pattern where start of the weeks starts aggressively active and slows down gradually and weekends are weekends where activity is the slowest. It's possible that weekend emails are sent by people with cretain ranks or from certain departments/companies and vice versa."
   ]
  },
  {
   "cell_type": "markdown",
   "metadata": {},
   "source": []
  },
  {
   "cell_type": "markdown",
   "metadata": {},
   "source": [
    "### Additional thoughts:\n",
    "All the charts above where we checked count emails sent in different time buckets (year, month, days) might be useful to optimize company resourses according to busyness"
   ]
  },
  {
   "cell_type": "code",
   "execution_count": null,
   "metadata": {},
   "outputs": [],
   "source": []
  },
  {
   "cell_type": "code",
   "execution_count": null,
   "metadata": {},
   "outputs": [],
   "source": []
  },
  {
   "cell_type": "code",
   "execution_count": null,
   "metadata": {},
   "outputs": [],
   "source": []
  },
  {
   "cell_type": "code",
   "execution_count": null,
   "metadata": {},
   "outputs": [],
   "source": []
  }
 ],
 "metadata": {
  "kernelspec": {
   "display_name": "Python 3",
   "language": "python",
   "name": "python3"
  },
  "language_info": {
   "codemirror_mode": {
    "name": "ipython",
    "version": 3
   },
   "file_extension": ".py",
   "mimetype": "text/x-python",
   "name": "python",
   "nbconvert_exporter": "python",
   "pygments_lexer": "ipython3",
   "version": "3.8.5"
  }
 },
 "nbformat": 4,
 "nbformat_minor": 2
}
